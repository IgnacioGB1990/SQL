{
 "cells": [
  {
   "cell_type": "markdown",
   "metadata": {},
   "source": [
    "* CASE\n",
    "* COALESCE\n",
    "* NULLIF\n",
    "* CAST\n",
    "* Views\n",
    "* Import and Export Functionality\n"
   ]
  },
  {
   "cell_type": "markdown",
   "metadata": {},
   "source": [
    "`CASE``\n",
    "\n",
    "CASE expression,\n",
    "    WHEN condition1 THEN result1\n",
    "    WHEN condition2 THEN result2\n",
    "    ELSE some_other_result\n",
    "END\n",
    "\n",
    "\n",
    "SELECT customer_id,\n",
    "CASE\n",
    "\tWHEN (customer_id <=100) THEN 'Premium'\n",
    "\tWHEN (customer_id BETWEEN 100 AND 200) THEN 'Plus'\n",
    "\tELSE 'Normal'\n",
    "END\n",
    "FROM customer\n",
    "\n",
    "\n",
    "\n",
    "SELECT customer_id,\n",
    "CASE customer_id\n",
    "\tWHEN 2 THEN 'Winner'\n",
    "\tWHEN 5 THEN 'Second Place'\n",
    "\tELSE 'Normal'\n",
    "END AS raffle_results\n",
    "FROM customer"
   ]
  },
  {
   "cell_type": "markdown",
   "metadata": {},
   "source": [
    "SELECT \n",
    "SUM(CASE rental_rate \n",
    "\tWHEN 0.99 THEN 1\n",
    "\tELSE 0\n",
    "END) AS bargains,\n",
    "SUM(CASE rental_rate\n",
    "   WHEN 2.99 THEN 1\n",
    "\tELSE 0\n",
    "\tEND\n",
    "   )AS premium\n",
    "FROM film"
   ]
  },
  {
   "cell_type": "markdown",
   "metadata": {},
   "source": [
    "select\n",
    "SUM(\n",
    "CASE rating\n",
    "\tWHEN 'R' THEN 1 ELSE 0\n",
    "\tEND\n",
    "\n",
    ") AS r,\n",
    "\n",
    "SUM (\n",
    "CASE rating\n",
    "\tWHEN 'PG' THEN 1 ELSE 0\n",
    "\tEND\n",
    ") AS pg,\n",
    "\n",
    "SUM (\n",
    "CASE rating\n",
    "\tWHEN 'PG-13' THEN 1 ELSE 0\n",
    "\tEND\n",
    ") AS pg13\n",
    "\n",
    "FROM film"
   ]
  },
  {
   "cell_type": "markdown",
   "metadata": {},
   "source": [
    "`COALESCE`\n",
    "\n",
    "Accepts an unlimited number of arguments. It returns the first argument that is not null. If all arguments are null, the COALESCE function will rerturn null.\n",
    "\n",
    "Becomes useful when querying a table that contains null values and subsituting it with another value.\n",
    "\n",
    "SELECT ITEM, (price - COALESCE(discount,0))\n",
    "AS final FROM table"
   ]
  },
  {
   "cell_type": "markdown",
   "metadata": {},
   "source": [
    "`CAST`\n",
    "Let´s you convert from one data type into another.\n",
    "Not every instance of a data type can be CAST to another data type, it must be reasonable to convert the data\n",
    "\n",
    "\n",
    "\n",
    "`SELECT CAST ('5' AS INTEGER)  AS new_int`\n",
    "\n",
    "`SELECT CAST '5'::INTEGER`\n",
    "\n",
    "\n",
    "`SELECT CAST (date AS TIMESTAMP)\n",
    "FROM table`"
   ]
  },
  {
   "cell_type": "markdown",
   "metadata": {},
   "source": [
    "`SELECT CHAR_LENGTH(CAST(inventory_id AS VARCHAR)) FROM rental`"
   ]
  },
  {
   "cell_type": "markdown",
   "metadata": {},
   "source": [
    "### `NULLIF`"
   ]
  },
  {
   "cell_type": "markdown",
   "metadata": {},
   "source": [
    "SELECT (\n",
    "SUM(CASE WHEN department = 'A' THEN 1 ELSE 0 END )/\n",
    "\tNULLIF(SUM(CASE WHEN department = 'B' THEN 1 ELSE 0 END),0)\n",
    ") AS department_ratio\n",
    "FROM depts"
   ]
  },
  {
   "cell_type": "markdown",
   "metadata": {},
   "source": [
    "`VIEW`\n",
    "\n",
    "- Is a database object that is of a stored query.\n",
    "- Can be accessed as a vritual table in PostGreSQL.\n",
    "- A view does not store data physically, it simply stores the query.\n",
    "\n",
    "CREATE VIEW customer_info AS\n",
    "SELECT first_name, last_name, address FROM customer\n",
    "INNER JOIN address\n",
    "ON customer.address_id = address.address_id\n",
    "\n",
    "DROP VIEW IF EXISTS customer_info\n"
   ]
  },
  {
   "cell_type": "markdown",
   "metadata": {},
   "source": []
  }
 ],
 "metadata": {
  "language_info": {
   "name": "python"
  },
  "orig_nbformat": 4
 },
 "nbformat": 4,
 "nbformat_minor": 2
}
