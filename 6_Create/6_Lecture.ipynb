{
 "cells": [
  {
   "cell_type": "markdown",
   "metadata": {},
   "source": [
    "CREATE TABLE table_name (\n",
    "    column_name TYPE column_constraint,\n",
    "    column_name TYPE column_constraint,\n",
    "    table_constraint table_constarint\n",
    ") INHERITS existing_table_name"
   ]
  },
  {
   "cell_type": "code",
   "execution_count": null,
   "metadata": {},
   "outputs": [],
   "source": []
  }
 ],
 "metadata": {
  "language_info": {
   "name": "python"
  },
  "orig_nbformat": 4
 },
 "nbformat": 4,
 "nbformat_minor": 2
}
