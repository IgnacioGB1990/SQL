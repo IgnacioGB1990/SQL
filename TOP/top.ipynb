{
 "cells": [
  {
   "cell_type": "markdown",
   "metadata": {},
   "source": [
    "`INNER JOIN`"
   ]
  },
  {
   "cell_type": "code",
   "execution_count": null,
   "metadata": {},
   "outputs": [],
   "source": [
    "\"\"\"\n",
    "\n",
    "SELECT Customers.customer_id, Customers.customer_name, Orders.order_id, Order_Details.product_name\n",
    "FROM Customers\n",
    "INNER JOIN Orders ON Customers.customer_id = Orders.customer_id\n",
    "INNER JOIN Order_Details ON Orders.order_id = Order_Details.order_id;\n",
    "\n",
    "\"\"\""
   ]
  }
 ],
 "metadata": {
  "language_info": {
   "name": "python"
  },
  "orig_nbformat": 4
 },
 "nbformat": 4,
 "nbformat_minor": 2
}
