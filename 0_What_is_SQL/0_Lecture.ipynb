{
 "cells": [
  {
   "cell_type": "markdown",
   "metadata": {},
   "source": [
    "# Introduction to SQL\n",
    "\n",
    "SQL (`Structured Query Language`) is the most widely used programming language to access information from `relational` databases. \n",
    "\n",
    "As the name implies, these type of databases have defined relationships between tables of data inside the database.\n",
    "\n",
    "The tables inside these databases may look similar to Excel spreadsheets, but are more powerful and present the following advantages:\n",
    "\n",
    "- Can store much more information.\n",
    "- Storage is much more secure due to encryption.\n",
    "- Many users can write queries at the same time to access information.\n",
    "\n",
    "**Tables** are the main building block of databases. They are organized in rows and columns referred to as *records* and *fields*.\n",
    "\n",
    "Table names should:\n",
    "\n",
    "- be lowercase\n",
    "- have no spaces, use underscores instead\n",
    "- refer to a collective group or be plural\n",
    "\n",
    "**Field** names should:\n",
    "\n",
    "- be lowercase\n",
    "- have no spaces\n",
    "- be singular\n",
    "- be different from other field names\n",
    "- be different from the table name\n",
    "\n",
    "**Comparison operators**:\n",
    "- = equal\n",
    "- \\> greater than\n",
    "- < less than\n",
    "- \\>= greater than or equal to\n",
    "- <= less than or equal to\n",
    "- <> or != not equal to\n",
    "\n",
    "**Logical operators**:\n",
    "- AND\n",
    "- OR\n",
    "- NOT\n",
    "\n",
    "\n",
    "**Single string quotes are usually prefered ' '**\n",
    "\n",
    "SQL keyword, command or statement\n"
   ]
  }
 ],
 "metadata": {
  "language_info": {
   "name": "python"
  },
  "orig_nbformat": 4
 },
 "nbformat": 4,
 "nbformat_minor": 2
}
